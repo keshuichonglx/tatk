{
 "cells": [
  {
   "cell_type": "code",
   "execution_count": null,
   "metadata": {
    "collapsed": true
   },
   "outputs": [],
   "source": [
    "import sys\n",
    "sys.path.insert(0, '../../')\n",
    "import os\n",
    "from tatk.dialog_agent import PipelineAgent, BiSession\n",
    "from tatk.nlu.svm.multiwoz import SVMNLU\n",
    "from tatk.dst.rule.multiwoz import RuleDST\n",
    "from tatk.policy.rule.multiwoz import Rule\n",
    "from tatk.nlg.template_nlg.multiwoz import TemplateNLG"
   ]
  },
  {
   "cell_type": "code",
   "execution_count": 2,
   "metadata": {},
   "outputs": [
    {
     "name": "stdout",
     "output_type": "stream",
     "text": [
      "Load from /home/zhuqi/Codes/tatk/tatk/nlu/bert/multiwoz/output/usr/bestcheckpoint.tar\n",
      "train step 18100\n",
      "BERTNLU loaded\n"
     ]
    }
   ],
   "source": [
    "proj_dir = '../..'\n",
    "nlu = SVMNLU('usr',\n",
    "              model_file=os.path.join(proj_dir, 'tatk/nlu/bert/multiwoz/output/usr/bert_multiwoz_usr.zip'))\n",
    "dst = RuleDST()\n",
    "policy = Rule()\n",
    "nlg = TemplateNLG(is_user=False)\n",
    "sys_agent = PipelineAgent(nlu,dst,policy,nlg)"
   ]
  },
  {
   "cell_type": "code",
   "execution_count": 3,
   "metadata": {},
   "outputs": [
    {
     "data": {
      "text/plain": [
       "'There are 10 of those . How about el shaddai ?'"
      ]
     },
     "execution_count": 3,
     "metadata": {},
     "output_type": "execute_result"
    }
   ],
   "source": [
    "sys_agent.response(\"I want to find a cheap hotel\")"
   ]
  },
  {
   "cell_type": "code",
   "execution_count": 4,
   "metadata": {},
   "outputs": [
    {
     "data": {
      "text/plain": [
       "'Thank you for contacting us and have a nice day .'"
      ]
     },
     "execution_count": 4,
     "metadata": {},
     "output_type": "execute_result"
    }
   ],
   "source": [
    "sys_agent.response(\"OK , where is its address\")"
   ]
  },
  {
   "cell_type": "code",
   "execution_count": 5,
   "metadata": {},
   "outputs": [
    {
     "data": {
      "text/plain": [
       "'Glad to have been of help . thank you for using the cambridge towninfo centre . enjoy the rest of your day !.'"
      ]
     },
     "execution_count": 5,
     "metadata": {},
     "output_type": "execute_result"
    }
   ],
   "source": [
    "sys_agent.response(\"tell me the address of the hotel\")"
   ]
  },
  {
   "cell_type": "code",
   "execution_count": 10,
   "metadata": {},
   "outputs": [
    {
     "data": {
      "text/plain": [
       "'There are 22 restaurants in that area that fit that criteria . I recommend j restaurant. Okay , may i suggest asian oriental food ?'"
      ]
     },
     "execution_count": 10,
     "metadata": {},
     "output_type": "execute_result"
    }
   ],
   "source": [
    "sys_agent.response(\"I want to find a cheap restaurant\")"
   ]
  },
  {
   "cell_type": "code",
   "execution_count": 7,
   "metadata": {},
   "outputs": [
    {
     "data": {
      "text/plain": [
       "\"I ' m happy to have been able to help you today .\""
      ]
     },
     "execution_count": 7,
     "metadata": {},
     "output_type": "execute_result"
    }
   ],
   "source": [
    "sys_agent.response(\"it should located in centre area\")"
   ]
  },
  {
   "cell_type": "code",
   "execution_count": 11,
   "metadata": {},
   "outputs": [
    {
     "data": {
      "text/plain": [
       "{'user_action': {'Restaurant-Inform': [['Price', 'cheap']]},\n",
       " 'system_action': {},\n",
       " 'belief_state': {'police': {'book': {'booked': []}, 'semi': {}},\n",
       "  'hotel': {'book': {'booked': [], 'people': '', 'day': '', 'stay': ''},\n",
       "   'semi': {'name': '',\n",
       "    'area': '',\n",
       "    'parking': '',\n",
       "    'pricerange': 'cheap',\n",
       "    'stars': '',\n",
       "    'internet': '',\n",
       "    'type': ''}},\n",
       "  'attraction': {'book': {'booked': []},\n",
       "   'semi': {'type': '', 'name': '', 'area': ''}},\n",
       "  'restaurant': {'book': {'booked': [], 'people': '', 'day': '', 'time': ''},\n",
       "   'semi': {'food': '', 'pricerange': 'cheap', 'name': '', 'area': ''}},\n",
       "  'hospital': {'book': {'booked': []}, 'semi': {'department': ''}},\n",
       "  'taxi': {'book': {'booked': []},\n",
       "   'semi': {'leaveAt': '',\n",
       "    'destination': '',\n",
       "    'departure': '',\n",
       "    'arriveBy': ''}},\n",
       "  'train': {'book': {'booked': [], 'people': ''},\n",
       "   'semi': {'leaveAt': '',\n",
       "    'destination': '',\n",
       "    'day': '',\n",
       "    'arriveBy': '',\n",
       "    'departure': ''}}},\n",
       " 'request_state': {},\n",
       " 'terminal': False,\n",
       " 'history': []}"
      ]
     },
     "execution_count": 11,
     "metadata": {},
     "output_type": "execute_result"
    }
   ],
   "source": [
    "sys_agent.tracker.state"
   ]
  },
  {
   "cell_type": "code",
   "execution_count": null,
   "metadata": {
    "collapsed": true
   },
   "outputs": [],
   "source": []
  }
 ],
 "metadata": {
  "kernelspec": {
   "display_name": "Python [conda env:tasktk]",
   "language": "python",
   "name": "conda-env-tasktk-py"
  },
  "language_info": {
   "codemirror_mode": {
    "name": "ipython",
    "version": 3
   },
   "file_extension": ".py",
   "mimetype": "text/x-python",
   "name": "python",
   "nbconvert_exporter": "python",
   "pygments_lexer": "ipython3",
   "version": "3.6.7"
  }
 },
 "nbformat": 4,
 "nbformat_minor": 2
}
